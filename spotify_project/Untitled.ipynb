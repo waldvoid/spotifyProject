{
 "cells": [
  {
   "cell_type": "markdown",
   "id": "178bb754-0cc4-4ee0-badb-f3ef3e883f5e",
   "metadata": {},
   "source": [
    "# Spotify Çalma Listesi ile Yeni Benzer Bir Çalma Listesi Oluşturma"
   ]
  },
  {
   "cell_type": "markdown",
   "id": "c13bcee9-e0c0-49e2-803a-65c81e614a07",
   "metadata": {},
   "source": [
    "## Veri Seti"
   ]
  },
  {
   "cell_type": "code",
   "execution_count": null,
   "id": "a6013b62-ee06-4b53-874c-6f970f380701",
   "metadata": {},
   "outputs": [],
   "source": [
    "Çalışmada kullanılan veri seti 169.909 farklı "
   ]
  }
 ],
 "metadata": {
  "kernelspec": {
   "display_name": "Python 3 (ipykernel)",
   "language": "python",
   "name": "python3"
  },
  "language_info": {
   "codemirror_mode": {
    "name": "ipython",
    "version": 3
   },
   "file_extension": ".py",
   "mimetype": "text/x-python",
   "name": "python",
   "nbconvert_exporter": "python",
   "pygments_lexer": "ipython3",
   "version": "3.12.1"
  }
 },
 "nbformat": 4,
 "nbformat_minor": 5
}
